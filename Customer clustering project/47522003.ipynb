{
 "cells": [
  {
   "cell_type": "markdown",
   "id": "b070464a-e1c5-4ff3-9e72-9638ed99e237",
   "metadata": {},
   "source": [
    "# About This Assignment\n",
    "Customer segmentation is the process of dividing customers into groups based on common characteristics so companies can market to each group effectively and appropriately. It can be employed by all types of business, regardless of size, industry and whether they sell online or in person. For example, a small business selling guitars might decide to promote lower-priced products to younger guitarists and higher-priced premium guitars to older musicians based on segment knowledge which tells them that younger musicians have less disposable income than their older counterparts."
   ]
  },
  {
   "cell_type": "code",
   "execution_count": 14,
   "id": "eb597c91-9223-4f2d-bfd7-e6153fc1b55b",
   "metadata": {},
   "outputs": [],
   "source": [
    "import pandas as pd\n",
    "from sklearn.preprocessing import OrdinalEncoder\n",
    "ord_enc = OrdinalEncoder()\n",
    "from sklearn.model_selection import train_test_split\n",
    "import seaborn as sns\n",
    "\n",
    "import matplotlib.pyplot as plt\n",
    "from matplotlib.pyplot import figure\n",
    "\n",
    "import warnings\n",
    "warnings.filterwarnings('ignore')"
   ]
  },
  {
   "cell_type": "code",
   "execution_count": 2,
   "id": "ab0882ce-fce8-476b-a2fc-556565d9863d",
   "metadata": {},
   "outputs": [],
   "source": [
    "df = pd.read_csv('data/data.csv')"
   ]
  },
  {
   "cell_type": "code",
   "execution_count": 3,
   "id": "ee3d52ac-c7ed-4704-8be1-4f6d9a3fce61",
   "metadata": {},
   "outputs": [
    {
     "data": {
      "text/html": [
       "<div>\n",
       "<style scoped>\n",
       "    .dataframe tbody tr th:only-of-type {\n",
       "        vertical-align: middle;\n",
       "    }\n",
       "\n",
       "    .dataframe tbody tr th {\n",
       "        vertical-align: top;\n",
       "    }\n",
       "\n",
       "    .dataframe thead th {\n",
       "        text-align: right;\n",
       "    }\n",
       "</style>\n",
       "<table border=\"1\" class=\"dataframe\">\n",
       "  <thead>\n",
       "    <tr style=\"text-align: right;\">\n",
       "      <th></th>\n",
       "      <th>ID</th>\n",
       "      <th>Sex</th>\n",
       "      <th>Marital status</th>\n",
       "      <th>Age</th>\n",
       "      <th>Education</th>\n",
       "      <th>Income</th>\n",
       "      <th>Occupation</th>\n",
       "      <th>Settlement size</th>\n",
       "    </tr>\n",
       "  </thead>\n",
       "  <tbody>\n",
       "    <tr>\n",
       "      <th>0</th>\n",
       "      <td>100000001</td>\n",
       "      <td>0</td>\n",
       "      <td>0</td>\n",
       "      <td>67</td>\n",
       "      <td>2</td>\n",
       "      <td>124670</td>\n",
       "      <td>1</td>\n",
       "      <td>2</td>\n",
       "    </tr>\n",
       "    <tr>\n",
       "      <th>1</th>\n",
       "      <td>100000002</td>\n",
       "      <td>1</td>\n",
       "      <td>1</td>\n",
       "      <td>22</td>\n",
       "      <td>1</td>\n",
       "      <td>150773</td>\n",
       "      <td>1</td>\n",
       "      <td>2</td>\n",
       "    </tr>\n",
       "    <tr>\n",
       "      <th>2</th>\n",
       "      <td>100000003</td>\n",
       "      <td>0</td>\n",
       "      <td>0</td>\n",
       "      <td>49</td>\n",
       "      <td>1</td>\n",
       "      <td>89210</td>\n",
       "      <td>0</td>\n",
       "      <td>0</td>\n",
       "    </tr>\n",
       "    <tr>\n",
       "      <th>3</th>\n",
       "      <td>100000004</td>\n",
       "      <td>0</td>\n",
       "      <td>0</td>\n",
       "      <td>45</td>\n",
       "      <td>1</td>\n",
       "      <td>171565</td>\n",
       "      <td>1</td>\n",
       "      <td>1</td>\n",
       "    </tr>\n",
       "    <tr>\n",
       "      <th>4</th>\n",
       "      <td>100000005</td>\n",
       "      <td>0</td>\n",
       "      <td>0</td>\n",
       "      <td>53</td>\n",
       "      <td>1</td>\n",
       "      <td>149031</td>\n",
       "      <td>1</td>\n",
       "      <td>1</td>\n",
       "    </tr>\n",
       "  </tbody>\n",
       "</table>\n",
       "</div>"
      ],
      "text/plain": [
       "          ID  Sex  Marital status  Age  Education  Income  Occupation  \\\n",
       "0  100000001    0               0   67          2  124670           1   \n",
       "1  100000002    1               1   22          1  150773           1   \n",
       "2  100000003    0               0   49          1   89210           0   \n",
       "3  100000004    0               0   45          1  171565           1   \n",
       "4  100000005    0               0   53          1  149031           1   \n",
       "\n",
       "   Settlement size  \n",
       "0                2  \n",
       "1                2  \n",
       "2                0  \n",
       "3                1  \n",
       "4                1  "
      ]
     },
     "execution_count": 3,
     "metadata": {},
     "output_type": "execute_result"
    }
   ],
   "source": [
    "df.head()"
   ]
  },
  {
   "cell_type": "code",
   "execution_count": 163,
   "id": "e7201ff1-f18e-4f7a-b77f-bc916c4ba7d0",
   "metadata": {},
   "outputs": [
    {
     "name": "stdout",
     "output_type": "stream",
     "text": [
      "<class 'pandas.core.frame.DataFrame'>\n",
      "RangeIndex: 2000 entries, 0 to 1999\n",
      "Data columns (total 7 columns):\n",
      " #   Column           Non-Null Count  Dtype\n",
      "---  ------           --------------  -----\n",
      " 0   Sex              2000 non-null   int64\n",
      " 1   Marital status   2000 non-null   int64\n",
      " 2   Age              2000 non-null   int64\n",
      " 3   Education        2000 non-null   int64\n",
      " 4   Income           2000 non-null   int64\n",
      " 5   Occupation       2000 non-null   int64\n",
      " 6   Settlement size  2000 non-null   int64\n",
      "dtypes: int64(7)\n",
      "memory usage: 109.5 KB\n"
     ]
    }
   ],
   "source": [
    "df.info() # checking missing values"
   ]
  },
  {
   "cell_type": "code",
   "execution_count": 5,
   "id": "dc07e490-5f90-42ec-b7f5-224cc58adc9a",
   "metadata": {},
   "outputs": [],
   "source": [
    "df.drop('ID',inplace = True, axis = 1)"
   ]
  },
  {
   "cell_type": "code",
   "execution_count": 162,
   "id": "038c2a0c-908f-4b79-af59-4c6d4d352b39",
   "metadata": {},
   "outputs": [
    {
     "data": {
      "image/png": "[encoded data removed]",
      "text/plain": [
       "<Figure size 1200x1200 with 4 Axes>"
      ]
     },
     "metadata": {},
     "output_type": "display_data"
    }
   ],
   "source": [
    "# Draw proportions chart\n",
    "\n",
    "figure(figsize=(15, 15), dpi=80,facecolor = 'white')\n",
    "palette_color = sns.color_palette('Set2')\n",
    "\n",
    "df_sex = df[['Sex']].value_counts()\n",
    "df_marriage = df[['Marital status']].value_counts()\n",
    "df_education = df[['Education']].value_counts()\n",
    "df_occupation = df[['Occupation']].value_counts()\n",
    "\n",
    "# Count plot for gender\n",
    "plt.subplot(2, 2, 1)\n",
    "labels = 'Male', 'Female'\n",
    "colors = ['lightskyblue', 'lightcoral']\n",
    "plt.pie(df_sex,labels=labels,colors=colors, autopct='%1.1f%%', startangle=90)\n",
    "plt.title('Proportions in gender')\n",
    "\n",
    "# Count plot for marriage\n",
    "plt.subplot(2, 2, 2)\n",
    "labels = 'Single', 'Non-Single'\n",
    "colors = ['lightskyblue', 'lightcoral']\n",
    "plt.pie(df_marriage,labels=labels,colors=colors, autopct='%1.1f%%', startangle=90)\n",
    "plt.title('Proportions in marital status')\n",
    "\n",
    "# Count plot for education\n",
    "plt.subplot(2, 2, 3)\n",
    "labels = 'High School', 'University', 'Other', 'Graduate School'\n",
    "colors = ['yellowgreen', 'gold', 'lightskyblue', 'lightcoral']\n",
    "plt.pie(df_education,labels=labels,colors=colors, autopct='%1.1f%%', startangle=90)\n",
    "plt.title('Proportions in education level')\n",
    "\n",
    "# Count plot for occupation\n",
    "plt.subplot(2, 2, 4)\n",
    "plt.rcParams['text.color'] = 'teal'\n",
    "labels = 'Skilled Employee/Official', 'Unemployed/Unskilled', 'Management/Self-employed/Highly qualified employee/Officer'\n",
    "colors = ['yellowgreen', 'gold', 'lightskyblue']\n",
    "plt.pie(df_occupation,labels=labels,colors=colors, autopct='%1.1f%%', startangle=90)\n",
    "plt.title('Proportions in Occupation')\n",
    "plt.tight_layout()\n",
    "\n",
    "plt.show()"
   ]
  },
  {
   "cell_type": "code",
   "execution_count": 164,
   "id": "0292f13b-c977-48db-bd41-bf7e69d69cf5",
   "metadata": {},
   "outputs": [
    {
     "data": {
      "text/plain": [
       "Text(0.5, 1.0, 'Age distribution')"
      ]
     },
     "execution_count": 164,
     "metadata": {},
     "output_type": "execute_result"
    },
    {
     "data": {
      "image/png": "[encoded data removed]",
      "text/plain": [
       "<Figure size 432x288 with 1 Axes>"
      ]
     },
     "metadata": {
      "needs_background": "light"
     },
     "output_type": "display_data"
    }
   ],
   "source": [
    "# Draw age distribution plot\n",
    "sns.histplot(data=df, x=\"Age\", kde=True)\n",
    "plt.title('Age distribution')"
   ]
  },
  {
   "cell_type": "markdown",
   "id": "f8b71e76-f4e3-4d68-928f-38156d8b0b07",
   "metadata": {},
   "source": [
    "# KMean plus"
   ]
  },
  {
   "cell_type": "code",
   "execution_count": 165,
   "id": "d7c77ec9-db9e-45e5-be39-1fb8d2308373",
   "metadata": {},
   "outputs": [],
   "source": [
    "# Using k-Mean++\n",
    "from sklearn.cluster import KMeans\n",
    "\n",
    "km_plus = KMeans(n_clusters=3, \n",
    "            init='k-means++',  \n",
    "            n_init=10,      \n",
    "            max_iter=300,   \n",
    "            random_state=0)\n",
    "\n",
    "y_km_plus = km_plus.fit_predict(df)"
   ]
  },
  {
   "cell_type": "code",
   "execution_count": 166,
   "id": "a16ccb92-1e44-476e-bc51-08f3ef074be2",
   "metadata": {},
   "outputs": [],
   "source": [
    "# adding clusters column into data table\n",
    "df_kmean = df.copy()\n",
    "df_kmean['clusters'] = y_km_plus"
   ]
  },
  {
   "cell_type": "markdown",
   "id": "06f1f62e-e9d5-4e85-83fb-4911e39fcfef",
   "metadata": {},
   "source": [
    "# Finding optimal parameter k"
   ]
  },
  {
   "cell_type": "code",
   "execution_count": 161,
   "id": "e4269d37-dca2-4a2c-94b4-9ba947a5e402",
   "metadata": {},
   "outputs": [
    {
     "data": {
      "image/png": "[encoded data removed]",
      "text/plain": [
       "<Figure size 432x288 with 1 Axes>"
      ]
     },
     "metadata": {
      "needs_background": "light"
     },
     "output_type": "display_data"
    }
   ],
   "source": [
    "inertias = [] \n",
    "\n",
    "for i in range(1, 11):\n",
    "    km = KMeans(n_clusters=i, \n",
    "                init='k-means++', \n",
    "                n_init=10, \n",
    "                max_iter=300, \n",
    "                random_state=0)\n",
    "    km.fit(df)\n",
    "    inertias.append(km.inertia_)\n",
    "\n",
    "plt.plot(range(1, 11), inertias, marker='o')\n",
    "plt.xlabel('Number of clusters')\n",
    "plt.ylabel('Cluster inertia (within-cluster SSE)')\n",
    "plt.xticks(range(1,11))\n",
    "plt.title('Elbow Method')\n",
    "plt.tight_layout()\n",
    "plt.show()"
   ]
  },
  {
   "cell_type": "markdown",
   "id": "2f143898-541e-407e-b0c9-beb4e008432f",
   "metadata": {},
   "source": [
    "# Agglomerative clustering"
   ]
  },
  {
   "cell_type": "code",
   "execution_count": 108,
   "id": "1a048501-96fa-4d84-ba3a-630ea0b20ed3",
   "metadata": {},
   "outputs": [],
   "source": [
    "from sklearn.cluster import AgglomerativeClustering\n",
    "# Training agglomerative clustering\n",
    "ac = AgglomerativeClustering(n_clusters=3, \n",
    "                             affinity='euclidean', \n",
    "                             linkage='complete')\n",
    "y_ac = ac.fit_predict(df)"
   ]
  },
  {
   "cell_type": "code",
   "execution_count": 109,
   "id": "12a80430-6c8d-44dc-b971-96e1af7f905d",
   "metadata": {},
   "outputs": [],
   "source": [
    "# Adding clusters column into the table\n",
    "df_ac = df.copy()\n",
    "df_ac['clusters'] = y_ac"
   ]
  },
  {
   "cell_type": "markdown",
   "id": "94896711-ffbe-4aac-855e-4c93e78fca31",
   "metadata": {},
   "source": [
    "# Clusters proportion"
   ]
  },
  {
   "cell_type": "code",
   "execution_count": 110,
   "id": "e3c50e4f-80ff-4ee2-baf0-50e644fc178e",
   "metadata": {},
   "outputs": [
    {
     "data": {
      "text/plain": [
       "0    1337\n",
       "2     603\n",
       "1      60\n",
       "Name: clusters, dtype: int64"
      ]
     },
     "execution_count": 110,
     "metadata": {},
     "output_type": "execute_result"
    }
   ],
   "source": [
    "# Agglomerative clustering\n",
    "df_ac['clusters'].value_counts()"
   ]
  },
  {
   "cell_type": "code",
   "execution_count": 111,
   "id": "9e9c3850-a0f3-4904-ab67-d6e914b1e768",
   "metadata": {},
   "outputs": [
    {
     "data": {
      "text/plain": [
       "1    904\n",
       "2    871\n",
       "0    225\n",
       "Name: clusters, dtype: int64"
      ]
     },
     "execution_count": 111,
     "metadata": {},
     "output_type": "execute_result"
    }
   ],
   "source": [
    "# KMean++\n",
    "df_kmean['clusters'].value_counts()"
   ]
  },
  {
   "cell_type": "code",
   "execution_count": 135,
   "id": "99f9180c-dd32-4525-8865-64c9d652e747",
   "metadata": {},
   "outputs": [
    {
     "data": {
      "image/png": "[encoded data removed]",
      "text/plain": [
       "<Figure size 800x800 with 2 Axes>"
      ]
     },
     "metadata": {},
     "output_type": "display_data"
    }
   ],
   "source": [
    "figure(figsize=(10, 10), dpi=80,facecolor = 'white')\n",
    "palette_color = sns.color_palette('Set2')\n",
    "\n",
    "plt.subplot(1, 2, 1)\n",
    "labels = ['Cluster 0','Cluster 2', 'Cluster 1']\n",
    "plt.pie(df_ac['clusters'].value_counts(),labels = labels, colors=palette_color, autopct='%.0f%%', startangle=90)\n",
    "plt.title('Counts by clusters using Agglomerative clustering')\n",
    "\n",
    "plt.subplot(1, 2, 2)\n",
    "labels = ['Cluster 1','Cluster 2', 'Cluster 0']\n",
    "plt.pie(df_kmean['clusters'].value_counts(),labels = labels, colors=palette_color, autopct='%.0f%%', startangle=90)\n",
    "plt.title('Counts by Clusters using KMean++')\n",
    "\n",
    "plt.show()"
   ]
  },
  {
   "cell_type": "markdown",
   "id": "75ebcf74-1747-477b-937e-bbcec9960aa1",
   "metadata": {
    "tags": []
   },
   "source": [
    "# Mean value"
   ]
  },
  {
   "cell_type": "code",
   "execution_count": 113,
   "id": "d26d33e2-0a35-42d0-ac17-d11739c7b8c9",
   "metadata": {},
   "outputs": [
    {
     "data": {
      "text/html": [
       "<div>\n",
       "<style scoped>\n",
       "    .dataframe tbody tr th:only-of-type {\n",
       "        vertical-align: middle;\n",
       "    }\n",
       "\n",
       "    .dataframe tbody tr th {\n",
       "        vertical-align: top;\n",
       "    }\n",
       "\n",
       "    .dataframe thead th {\n",
       "        text-align: right;\n",
       "    }\n",
       "</style>\n",
       "<table border=\"1\" class=\"dataframe\">\n",
       "  <thead>\n",
       "    <tr style=\"text-align: right;\">\n",
       "      <th></th>\n",
       "      <th>Sex</th>\n",
       "      <th>Marital status</th>\n",
       "      <th>Age</th>\n",
       "      <th>Education</th>\n",
       "      <th>Income</th>\n",
       "      <th>Occupation</th>\n",
       "      <th>Settlement size</th>\n",
       "    </tr>\n",
       "    <tr>\n",
       "      <th>clusters</th>\n",
       "      <th></th>\n",
       "      <th></th>\n",
       "      <th></th>\n",
       "      <th></th>\n",
       "      <th></th>\n",
       "      <th></th>\n",
       "      <th></th>\n",
       "    </tr>\n",
       "  </thead>\n",
       "  <tbody>\n",
       "    <tr>\n",
       "      <th>0</th>\n",
       "      <td>0.293333</td>\n",
       "      <td>0.457778</td>\n",
       "      <td>43.875556</td>\n",
       "      <td>1.346667</td>\n",
       "      <td>197576.120000</td>\n",
       "      <td>1.577778</td>\n",
       "      <td>1.364444</td>\n",
       "    </tr>\n",
       "    <tr>\n",
       "      <th>1</th>\n",
       "      <td>0.386062</td>\n",
       "      <td>0.448009</td>\n",
       "      <td>37.748894</td>\n",
       "      <td>1.071903</td>\n",
       "      <td>131306.526549</td>\n",
       "      <td>0.991150</td>\n",
       "      <td>0.949115</td>\n",
       "    </tr>\n",
       "    <tr>\n",
       "      <th>2</th>\n",
       "      <td>0.572905</td>\n",
       "      <td>0.556831</td>\n",
       "      <td>31.941447</td>\n",
       "      <td>0.923077</td>\n",
       "      <td>90416.889782</td>\n",
       "      <td>0.424799</td>\n",
       "      <td>0.359357</td>\n",
       "    </tr>\n",
       "  </tbody>\n",
       "</table>\n",
       "</div>"
      ],
      "text/plain": [
       "               Sex  Marital status        Age  Education         Income  \\\n",
       "clusters                                                                  \n",
       "0         0.293333        0.457778  43.875556   1.346667  197576.120000   \n",
       "1         0.386062        0.448009  37.748894   1.071903  131306.526549   \n",
       "2         0.572905        0.556831  31.941447   0.923077   90416.889782   \n",
       "\n",
       "          Occupation  Settlement size  \n",
       "clusters                               \n",
       "0           1.577778         1.364444  \n",
       "1           0.991150         0.949115  \n",
       "2           0.424799         0.359357  "
      ]
     },
     "execution_count": 113,
     "metadata": {},
     "output_type": "execute_result"
    }
   ],
   "source": [
    "df_kmean.groupby(['clusters']).mean()"
   ]
  },
  {
   "cell_type": "code",
   "execution_count": 114,
   "id": "eff7dbe2-f336-42b2-b354-faf9212379db",
   "metadata": {},
   "outputs": [
    {
     "data": {
      "text/html": [
       "<div>\n",
       "<style scoped>\n",
       "    .dataframe tbody tr th:only-of-type {\n",
       "        vertical-align: middle;\n",
       "    }\n",
       "\n",
       "    .dataframe tbody tr th {\n",
       "        vertical-align: top;\n",
       "    }\n",
       "\n",
       "    .dataframe thead th {\n",
       "        text-align: right;\n",
       "    }\n",
       "</style>\n",
       "<table border=\"1\" class=\"dataframe\">\n",
       "  <thead>\n",
       "    <tr style=\"text-align: right;\">\n",
       "      <th></th>\n",
       "      <th>Sex</th>\n",
       "      <th>Marital status</th>\n",
       "      <th>Age</th>\n",
       "      <th>Education</th>\n",
       "      <th>Income</th>\n",
       "      <th>Occupation</th>\n",
       "      <th>Settlement size</th>\n",
       "    </tr>\n",
       "    <tr>\n",
       "      <th>clusters</th>\n",
       "      <th></th>\n",
       "      <th></th>\n",
       "      <th></th>\n",
       "      <th></th>\n",
       "      <th></th>\n",
       "      <th></th>\n",
       "      <th></th>\n",
       "    </tr>\n",
       "  </thead>\n",
       "  <tbody>\n",
       "    <tr>\n",
       "      <th>0</th>\n",
       "      <td>0.417352</td>\n",
       "      <td>0.482423</td>\n",
       "      <td>37.384443</td>\n",
       "      <td>1.086013</td>\n",
       "      <td>132446.944652</td>\n",
       "      <td>1.004488</td>\n",
       "      <td>0.926702</td>\n",
       "    </tr>\n",
       "    <tr>\n",
       "      <th>1</th>\n",
       "      <td>0.233333</td>\n",
       "      <td>0.350000</td>\n",
       "      <td>45.316667</td>\n",
       "      <td>1.350000</td>\n",
       "      <td>244753.516667</td>\n",
       "      <td>1.816667</td>\n",
       "      <td>1.600000</td>\n",
       "    </tr>\n",
       "    <tr>\n",
       "      <th>2</th>\n",
       "      <td>0.567164</td>\n",
       "      <td>0.542289</td>\n",
       "      <td>31.701493</td>\n",
       "      <td>0.900498</td>\n",
       "      <td>83154.331675</td>\n",
       "      <td>0.280265</td>\n",
       "      <td>0.237148</td>\n",
       "    </tr>\n",
       "  </tbody>\n",
       "</table>\n",
       "</div>"
      ],
      "text/plain": [
       "               Sex  Marital status        Age  Education         Income  \\\n",
       "clusters                                                                  \n",
       "0         0.417352        0.482423  37.384443   1.086013  132446.944652   \n",
       "1         0.233333        0.350000  45.316667   1.350000  244753.516667   \n",
       "2         0.567164        0.542289  31.701493   0.900498   83154.331675   \n",
       "\n",
       "          Occupation  Settlement size  \n",
       "clusters                               \n",
       "0           1.004488         0.926702  \n",
       "1           1.816667         1.600000  \n",
       "2           0.280265         0.237148  "
      ]
     },
     "execution_count": 114,
     "metadata": {},
     "output_type": "execute_result"
    }
   ],
   "source": [
    "df_ac.groupby(['clusters']).mean()"
   ]
  },
  {
   "cell_type": "code",
   "execution_count": 167,
   "id": "25820f6f-732c-4a6d-9cf3-9efb032363e4",
   "metadata": {},
   "outputs": [
    {
     "data": {
      "text/plain": [
       "Text(0.5, 1.0, 'Average Income')"
      ]
     },
     "execution_count": 167,
     "metadata": {},
     "output_type": "execute_result"
    },
    {
     "data": {
      "image/png": "[encoded data removed]",
      "text/plain": [
       "<Figure size 400x400 with 2 Axes>"
      ]
     },
     "metadata": {
      "needs_background": "light"
     },
     "output_type": "display_data"
    }
   ],
   "source": [
    "#Draw average age, income chart\n",
    "df_ac_mean = df_ac.groupby(['clusters']).mean()\n",
    "df_ac_mean['clusters'] = [0,1,2]\n",
    "\n",
    "figure(figsize=(5, 5), dpi=80)\n",
    "plt.subplots_adjust(left=0.1, bottom=None, right=2.1, top=None, wspace=None, hspace=None)\n",
    "\n",
    "plt.subplot(1, 2, 1)\n",
    "sns.barplot(data=df_ac_mean, x=\"clusters\", y=\"Age\")\n",
    "plt.title('Average Age')\n",
    "\n",
    "plt.subplot(1, 2, 2)\n",
    "sns.barplot(data=df_ac_mean, x=\"clusters\", y=\"Income\")\n",
    "plt.title('Average Income')\n",
    "\n"
   ]
  },
  {
   "cell_type": "code",
   "execution_count": 156,
   "id": "b081a75f-a43f-4d28-94e8-9aa2181aa24a",
   "metadata": {},
   "outputs": [
    {
     "data": {
      "text/plain": [
       "Text(0.5, 1.0, 'Average Income')"
      ]
     },
     "execution_count": 156,
     "metadata": {},
     "output_type": "execute_result"
    },
    {
     "data": {
      "image/png": "[encoded data removed]",
      "text/plain": [
       "<Figure size 400x400 with 2 Axes>"
      ]
     },
     "metadata": {
      "needs_background": "light"
     },
     "output_type": "display_data"
    }
   ],
   "source": [
    "df_km_mean = df_kmean.groupby(['clusters']).mean()\n",
    "df_km_mean['clusters'] = [0,1,2]\n",
    "\n",
    "figure(figsize=(5, 5), dpi=80)\n",
    "plt.subplots_adjust(left=0.1, bottom=None, right=2.1, top=None, wspace=None, hspace=None)\n",
    "\n",
    "plt.subplot(1, 2, 1)\n",
    "sns.barplot(data=df_km_mean, x=\"clusters\", y=\"Age\")\n",
    "plt.title('Average Age')\n",
    "\n",
    "plt.subplot(1, 2, 2)\n",
    "sns.barplot(data=df_km_mean, x=\"clusters\", y=\"Income\")\n",
    "plt.title('Average Income')\n",
    "\n"
   ]
  },
  {
   "cell_type": "markdown",
   "id": "c94fc337-e0eb-4619-a708-1bfaa86337eb",
   "metadata": {},
   "source": [
    "# Mode value"
   ]
  },
  {
   "cell_type": "code",
   "execution_count": 153,
   "id": "563e2b1d-4289-4f00-b58a-dd1a2305fc80",
   "metadata": {},
   "outputs": [
    {
     "data": {
      "text/html": [
       "<div>\n",
       "<style scoped>\n",
       "    .dataframe tbody tr th:only-of-type {\n",
       "        vertical-align: middle;\n",
       "    }\n",
       "\n",
       "    .dataframe tbody tr th {\n",
       "        vertical-align: top;\n",
       "    }\n",
       "\n",
       "    .dataframe thead th {\n",
       "        text-align: right;\n",
       "    }\n",
       "</style>\n",
       "<table border=\"1\" class=\"dataframe\">\n",
       "  <thead>\n",
       "    <tr style=\"text-align: right;\">\n",
       "      <th></th>\n",
       "      <th>Sex</th>\n",
       "      <th>Marital status</th>\n",
       "      <th>Age</th>\n",
       "      <th>Education</th>\n",
       "      <th>Occupation</th>\n",
       "      <th>Settlement size</th>\n",
       "    </tr>\n",
       "    <tr>\n",
       "      <th>clusters</th>\n",
       "      <th></th>\n",
       "      <th></th>\n",
       "      <th></th>\n",
       "      <th></th>\n",
       "      <th></th>\n",
       "      <th></th>\n",
       "    </tr>\n",
       "  </thead>\n",
       "  <tbody>\n",
       "    <tr>\n",
       "      <th>0</th>\n",
       "      <td>0</td>\n",
       "      <td>0</td>\n",
       "      <td>26</td>\n",
       "      <td>1</td>\n",
       "      <td>1</td>\n",
       "      <td>0</td>\n",
       "    </tr>\n",
       "    <tr>\n",
       "      <th>1</th>\n",
       "      <td>0</td>\n",
       "      <td>0</td>\n",
       "      <td>[42, 45]</td>\n",
       "      <td>2</td>\n",
       "      <td>2</td>\n",
       "      <td>2</td>\n",
       "    </tr>\n",
       "    <tr>\n",
       "      <th>2</th>\n",
       "      <td>1</td>\n",
       "      <td>1</td>\n",
       "      <td>[26, 27]</td>\n",
       "      <td>1</td>\n",
       "      <td>0</td>\n",
       "      <td>0</td>\n",
       "    </tr>\n",
       "  </tbody>\n",
       "</table>\n",
       "</div>"
      ],
      "text/plain": [
       "          Sex  Marital status       Age  Education  Occupation  \\\n",
       "clusters                                                         \n",
       "0           0               0        26          1           1   \n",
       "1           0               0  [42, 45]          2           2   \n",
       "2           1               1  [26, 27]          1           0   \n",
       "\n",
       "          Settlement size  \n",
       "clusters                   \n",
       "0                       0  \n",
       "1                       2  \n",
       "2                       0  "
      ]
     },
     "execution_count": 153,
     "metadata": {},
     "output_type": "execute_result"
    }
   ],
   "source": [
    "df_ac.groupby(['clusters']).agg(pd.Series.mode)"
   ]
  },
  {
   "cell_type": "code",
   "execution_count": 119,
   "id": "8d5b455d-d29b-4c10-aab4-c809fb1d20d5",
   "metadata": {},
   "outputs": [
    {
     "data": {
      "text/html": [
       "<div>\n",
       "<style scoped>\n",
       "    .dataframe tbody tr th:only-of-type {\n",
       "        vertical-align: middle;\n",
       "    }\n",
       "\n",
       "    .dataframe tbody tr th {\n",
       "        vertical-align: top;\n",
       "    }\n",
       "\n",
       "    .dataframe thead th {\n",
       "        text-align: right;\n",
       "    }\n",
       "</style>\n",
       "<table border=\"1\" class=\"dataframe\">\n",
       "  <thead>\n",
       "    <tr style=\"text-align: right;\">\n",
       "      <th></th>\n",
       "      <th>Sex</th>\n",
       "      <th>Marital status</th>\n",
       "      <th>Age</th>\n",
       "      <th>Education</th>\n",
       "      <th>Occupation</th>\n",
       "      <th>Settlement size</th>\n",
       "    </tr>\n",
       "    <tr>\n",
       "      <th>clusters</th>\n",
       "      <th></th>\n",
       "      <th></th>\n",
       "      <th></th>\n",
       "      <th></th>\n",
       "      <th></th>\n",
       "      <th></th>\n",
       "    </tr>\n",
       "  </thead>\n",
       "  <tbody>\n",
       "    <tr>\n",
       "      <th>0</th>\n",
       "      <td>0</td>\n",
       "      <td>0</td>\n",
       "      <td>30</td>\n",
       "      <td>1</td>\n",
       "      <td>2</td>\n",
       "      <td>2</td>\n",
       "    </tr>\n",
       "    <tr>\n",
       "      <th>1</th>\n",
       "      <td>0</td>\n",
       "      <td>0</td>\n",
       "      <td>[35, 36]</td>\n",
       "      <td>1</td>\n",
       "      <td>1</td>\n",
       "      <td>1</td>\n",
       "    </tr>\n",
       "    <tr>\n",
       "      <th>2</th>\n",
       "      <td>1</td>\n",
       "      <td>1</td>\n",
       "      <td>26</td>\n",
       "      <td>1</td>\n",
       "      <td>0</td>\n",
       "      <td>0</td>\n",
       "    </tr>\n",
       "  </tbody>\n",
       "</table>\n",
       "</div>"
      ],
      "text/plain": [
       "          Sex  Marital status       Age  Education  Occupation  \\\n",
       "clusters                                                         \n",
       "0           0               0        30          1           2   \n",
       "1           0               0  [35, 36]          1           1   \n",
       "2           1               1        26          1           0   \n",
       "\n",
       "          Settlement size  \n",
       "clusters                   \n",
       "0                       2  \n",
       "1                       1  \n",
       "2                       0  "
      ]
     },
     "execution_count": 119,
     "metadata": {},
     "output_type": "execute_result"
    }
   ],
   "source": [
    "df_kmean.groupby(['clusters']).agg(pd.Series.mode)"
   ]
  },
  {
   "cell_type": "markdown",
   "id": "40bc4fb2-10ab-4b03-8287-b83d355ae494",
   "metadata": {},
   "source": [
    "# Summarize"
   ]
  },
  {
   "cell_type": "code",
   "execution_count": 150,
   "id": "be0ee2e6-27b5-4927-b9a4-ade69beced0a",
   "metadata": {},
   "outputs": [],
   "source": [
    "Sex = { 0 : 'Male', 1 : 'Female'}\n",
    "Marital_status = { 0 : 'Single', 1 : 'Non-single'}\n",
    "Education = { 0 : 'Other', 1 : 'High School', 2 : 'University', 3: 'Graduate School'}\n",
    "Occupation = { 0 : 'Unemployed/Unskilled', 1 : 'Skilled Employee/Official', 2 : 'Management/Self-employed/Highly qualified employee/Officer'}\n",
    "Settlement_size = { 0 : 'Small City', 1 : 'Mid-sized City', 2 : 'Big City'}"
   ]
  },
  {
   "cell_type": "code",
   "execution_count": 168,
   "id": "80eca01e-e790-4c25-928a-f67c535f30dc",
   "metadata": {},
   "outputs": [
    {
     "data": {
      "text/html": [
       "<div>\n",
       "<style scoped>\n",
       "    .dataframe tbody tr th:only-of-type {\n",
       "        vertical-align: middle;\n",
       "    }\n",
       "\n",
       "    .dataframe tbody tr th {\n",
       "        vertical-align: top;\n",
       "    }\n",
       "\n",
       "    .dataframe thead th {\n",
       "        text-align: right;\n",
       "    }\n",
       "</style>\n",
       "<table border=\"1\" class=\"dataframe\">\n",
       "  <thead>\n",
       "    <tr style=\"text-align: right;\">\n",
       "      <th></th>\n",
       "      <th>Sex</th>\n",
       "      <th>Marital status</th>\n",
       "      <th>Education</th>\n",
       "      <th>Occupation</th>\n",
       "      <th>Settlement size</th>\n",
       "      <th>Age</th>\n",
       "      <th>Income</th>\n",
       "    </tr>\n",
       "    <tr>\n",
       "      <th>clusters</th>\n",
       "      <th></th>\n",
       "      <th></th>\n",
       "      <th></th>\n",
       "      <th></th>\n",
       "      <th></th>\n",
       "      <th></th>\n",
       "      <th></th>\n",
       "    </tr>\n",
       "  </thead>\n",
       "  <tbody>\n",
       "    <tr>\n",
       "      <th>0</th>\n",
       "      <td>Male</td>\n",
       "      <td>Single</td>\n",
       "      <td>High School</td>\n",
       "      <td>Skilled Employee/Official</td>\n",
       "      <td>Small City</td>\n",
       "      <td>Middle</td>\n",
       "      <td>Middle</td>\n",
       "    </tr>\n",
       "    <tr>\n",
       "      <th>1</th>\n",
       "      <td>Male</td>\n",
       "      <td>Single</td>\n",
       "      <td>University</td>\n",
       "      <td>Management/Self-employed/Highly qualified empl...</td>\n",
       "      <td>Big City</td>\n",
       "      <td>High</td>\n",
       "      <td>High</td>\n",
       "    </tr>\n",
       "    <tr>\n",
       "      <th>2</th>\n",
       "      <td>Female</td>\n",
       "      <td>Non-single</td>\n",
       "      <td>High School</td>\n",
       "      <td>Unemployed/Unskilled</td>\n",
       "      <td>Small City</td>\n",
       "      <td>Low</td>\n",
       "      <td>Low</td>\n",
       "    </tr>\n",
       "  </tbody>\n",
       "</table>\n",
       "</div>"
      ],
      "text/plain": [
       "             Sex Marital status    Education  \\\n",
       "clusters                                       \n",
       "0           Male         Single  High School   \n",
       "1           Male         Single   University   \n",
       "2         Female     Non-single  High School   \n",
       "\n",
       "                                                 Occupation Settlement size  \\\n",
       "clusters                                                                      \n",
       "0                                 Skilled Employee/Official      Small City   \n",
       "1         Management/Self-employed/Highly qualified empl...        Big City   \n",
       "2                                      Unemployed/Unskilled      Small City   \n",
       "\n",
       "             Age  Income  \n",
       "clusters                  \n",
       "0         Middle  Middle  \n",
       "1           High    High  \n",
       "2            Low     Low  "
      ]
     },
     "execution_count": 168,
     "metadata": {},
     "output_type": "execute_result"
    }
   ],
   "source": [
    "# create table for ac method\n",
    "ac_clusters = df_ac.groupby(['clusters']).agg(pd.Series.mode).drop('Age',axis = 1)\n",
    "ac_clusters.replace({'Sex' : Sex},inplace = True)\n",
    "ac_clusters.replace({'Marital status' : Marital_status},inplace = True)\n",
    "ac_clusters.replace({'Education' : Education},inplace = True)\n",
    "ac_clusters.replace({'Occupation' : Occupation},inplace = True)\n",
    "ac_clusters.replace({'Settlement size' : Settlement_size},inplace = True)\n",
    "ac_clusters['Age']= ['Middle','High','Low']\n",
    "ac_clusters['Income']= ['Middle','High','Low']\n",
    "ac_clusters"
   ]
  },
  {
   "cell_type": "code",
   "execution_count": 169,
   "id": "dc5f286c-ece1-4329-9c53-c3b439faaabe",
   "metadata": {},
   "outputs": [
    {
     "data": {
      "text/html": [
       "<div>\n",
       "<style scoped>\n",
       "    .dataframe tbody tr th:only-of-type {\n",
       "        vertical-align: middle;\n",
       "    }\n",
       "\n",
       "    .dataframe tbody tr th {\n",
       "        vertical-align: top;\n",
       "    }\n",
       "\n",
       "    .dataframe thead th {\n",
       "        text-align: right;\n",
       "    }\n",
       "</style>\n",
       "<table border=\"1\" class=\"dataframe\">\n",
       "  <thead>\n",
       "    <tr style=\"text-align: right;\">\n",
       "      <th></th>\n",
       "      <th>Sex</th>\n",
       "      <th>Marital status</th>\n",
       "      <th>Education</th>\n",
       "      <th>Occupation</th>\n",
       "      <th>Settlement size</th>\n",
       "      <th>Age</th>\n",
       "      <th>Income</th>\n",
       "    </tr>\n",
       "    <tr>\n",
       "      <th>clusters</th>\n",
       "      <th></th>\n",
       "      <th></th>\n",
       "      <th></th>\n",
       "      <th></th>\n",
       "      <th></th>\n",
       "      <th></th>\n",
       "      <th></th>\n",
       "    </tr>\n",
       "  </thead>\n",
       "  <tbody>\n",
       "    <tr>\n",
       "      <th>0</th>\n",
       "      <td>Male</td>\n",
       "      <td>Single</td>\n",
       "      <td>High School</td>\n",
       "      <td>Management/Self-employed/Highly qualified empl...</td>\n",
       "      <td>Big City</td>\n",
       "      <td>High</td>\n",
       "      <td>High</td>\n",
       "    </tr>\n",
       "    <tr>\n",
       "      <th>1</th>\n",
       "      <td>Male</td>\n",
       "      <td>Single</td>\n",
       "      <td>High School</td>\n",
       "      <td>Skilled Employee/Official</td>\n",
       "      <td>Mid-sized City</td>\n",
       "      <td>Middle</td>\n",
       "      <td>Middle</td>\n",
       "    </tr>\n",
       "    <tr>\n",
       "      <th>2</th>\n",
       "      <td>Female</td>\n",
       "      <td>Non-single</td>\n",
       "      <td>High School</td>\n",
       "      <td>Unemployed/Unskilled</td>\n",
       "      <td>Small City</td>\n",
       "      <td>Low</td>\n",
       "      <td>Low</td>\n",
       "    </tr>\n",
       "  </tbody>\n",
       "</table>\n",
       "</div>"
      ],
      "text/plain": [
       "             Sex Marital status    Education  \\\n",
       "clusters                                       \n",
       "0           Male         Single  High School   \n",
       "1           Male         Single  High School   \n",
       "2         Female     Non-single  High School   \n",
       "\n",
       "                                                 Occupation Settlement size  \\\n",
       "clusters                                                                      \n",
       "0         Management/Self-employed/Highly qualified empl...        Big City   \n",
       "1                                 Skilled Employee/Official  Mid-sized City   \n",
       "2                                      Unemployed/Unskilled      Small City   \n",
       "\n",
       "             Age  Income  \n",
       "clusters                  \n",
       "0           High    High  \n",
       "1         Middle  Middle  \n",
       "2            Low     Low  "
      ]
     },
     "execution_count": 169,
     "metadata": {},
     "output_type": "execute_result"
    }
   ],
   "source": [
    "# create table for k-Mean method\n",
    "km_clusters = df_kmean.groupby(['clusters']).agg(pd.Series.mode).drop('Age',axis = 1)\n",
    "km_clusters.replace({'Sex' : Sex},inplace = True)\n",
    "km_clusters.replace({'Marital status' : Marital_status},inplace = True)\n",
    "km_clusters.replace({'Education' : Education},inplace = True)\n",
    "km_clusters.replace({'Occupation' : Occupation},inplace = True)\n",
    "km_clusters.replace({'Settlement size' : Settlement_size},inplace = True)\n",
    "km_clusters['Age']= ['High','Middle','Low']\n",
    "km_clusters['Income']= ['High','Middle','Low']\n",
    "km_clusters"
   ]
  }
 ],
 "metadata": {
  "kernelspec": {
   "display_name": "Python 3 (ipykernel)",
   "language": "python",
   "name": "python3"
  },
  "language_info": {
   "codemirror_mode": {
    "name": "ipython",
    "version": 3
   },
   "file_extension": ".py",
   "mimetype": "text/x-python",
   "name": "python",
   "nbconvert_exporter": "python",
   "pygments_lexer": "ipython3",
   "version": "3.9.12"
  }
 },
 "nbformat": 4,
 "nbformat_minor": 5
}
