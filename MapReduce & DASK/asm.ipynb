{
 "cells": [
  {
   "cell_type": "code",
   "execution_count": 2,
   "metadata": {},
   "outputs": [],
   "source": [
    "from pymongo import MongoClient\n",
    "import nltk\n",
    "from nltk.tokenize import word_tokenize\n",
    "from nltk.stem import PorterStemmer\n",
    "from nltk.corpus import stopwords\n",
    "import re"
   ]
  },
  {
   "cell_type": "code",
   "execution_count": 30,
   "metadata": {},
   "outputs": [],
   "source": [
    "def remove_stopwords(words):\n",
    "    list = word_tokenize(words)\n",
    "    for i in list:\n",
    "        if i in stopwords.words(\"english\"):\n",
    "            list.remove(i)\n",
    "    return list\n",
    "\n",
    "# def filter_english(text):\n",
    "#     words = set(nltk.corpus.words.words())\n",
    "\n",
    "#     result = \" \".join(w for w in nltk.wordpunct_tokenize(text) if w.lower() in words or not w.isalpha())\n",
    "#     return result\n",
    "\n",
    "def stem_words(words):\n",
    "    result =[]\n",
    "    for i in words:\n",
    "        result.append(PorterStemmer().stem(i))\n",
    "    return result\n",
    "\n",
    "def clean_text(text):\n",
    "    text = re.sub(r\"(([a-z]{3,6}://)|(^|\\s))([a-zA-Z0-9\\-]+\\.)+[a-z]{2,13}[\\.\\?\\=\\&\\%\\/\\w\\-]*\\b([^@]|$)\",\"\", text)\n",
    "    text = re.sub(r\"[^\\w]\",\" \", text)\n",
    "    text = filter_english(text)\n",
    "    words = remove_stopwords(text)\n",
    "    words = stem_words(words)\n",
    "    return words"
   ]
  },
  {
   "cell_type": "code",
   "execution_count": 7,
   "metadata": {},
   "outputs": [],
   "source": [
    "client = MongoClient('localhost',27017)\n",
    "db= client.Practical4"
   ]
  },
  {
   "cell_type": "code",
   "execution_count": 28,
   "metadata": {},
   "outputs": [
    {
     "data": {
      "text/plain": [
       "'International family law issues can be overwhelming, particularly where there are multiple jurisdictions and/or... https://t.co/sHYtvAWvAu'"
      ]
     },
     "execution_count": 28,
     "metadata": {},
     "output_type": "execute_result"
    }
   ],
   "source": [
    "text = db.asm.find()[200]['body']\n",
    "text"
   ]
  },
  {
   "cell_type": "code",
   "execution_count": 18,
   "metadata": {},
   "outputs": [],
   "source": [
    "text = 'tha5sosfamili get to 700 a minut i tweet hourli 5sosfam'"
   ]
  },
  {
   "cell_type": "code",
   "execution_count": 20,
   "metadata": {},
   "outputs": [
    {
     "data": {
      "text/plain": [
       "'tha5sosfamili get to 700 a i tweet 5sosfam'"
      ]
     },
     "execution_count": 20,
     "metadata": {},
     "output_type": "execute_result"
    }
   ],
   "source": [
    "filter_english(text)"
   ]
  },
  {
   "cell_type": "code",
   "execution_count": 64,
   "metadata": {},
   "outputs": [
    {
     "ename": "TypeError",
     "evalue": "string indices must be integers",
     "output_type": "error",
     "traceback": [
      "\u001b[0;31m---------------------------------------------------------------------------\u001b[0m",
      "\u001b[0;31mTypeError\u001b[0m                                 Traceback (most recent call last)",
      "Cell \u001b[0;32mIn[64], line 1\u001b[0m\n\u001b[0;32m----> 1\u001b[0m text \u001b[39m=\u001b[39m db\u001b[39m.\u001b[39;49masm\u001b[39m.\u001b[39;49mfind()[\u001b[39m1\u001b[39;49m][\u001b[39m\"\u001b[39;49m\u001b[39mgnip\u001b[39;49m\u001b[39m\"\u001b[39;49m][\u001b[39m'\u001b[39;49m\u001b[39mprofileLocations\u001b[39;49m\u001b[39m'\u001b[39;49m][\u001b[39m0\u001b[39;49m][\u001b[39m'\u001b[39;49m\u001b[39maddress\u001b[39;49m\u001b[39m'\u001b[39;49m][\u001b[39m'\u001b[39;49m\u001b[39mcountry\u001b[39;49m\u001b[39m'\u001b[39;49m][\u001b[39m'\u001b[39;49m\u001b[39mlocality\u001b[39;49m\u001b[39m'\u001b[39;49m]\n\u001b[1;32m      2\u001b[0m text\n",
      "\u001b[0;31mTypeError\u001b[0m: string indices must be integers"
     ]
    }
   ],
   "source": [
    "text = db.asm.find()[1][\"gnip\"]['profileLocations'][0]['address']\n",
    "text"
   ]
  },
  {
   "cell_type": "code",
   "execution_count": 61,
   "metadata": {},
   "outputs": [
    {
     "ename": "KeyError",
     "evalue": "'profileLocations'",
     "output_type": "error",
     "traceback": [
      "\u001b[0;31m---------------------------------------------------------------------------\u001b[0m",
      "\u001b[0;31mKeyError\u001b[0m                                  Traceback (most recent call last)",
      "Cell \u001b[0;32mIn[61], line 2\u001b[0m\n\u001b[1;32m      1\u001b[0m \u001b[39mfor\u001b[39;00m text \u001b[39min\u001b[39;00m db\u001b[39m.\u001b[39masm\u001b[39m.\u001b[39mfind():\n\u001b[0;32m----> 2\u001b[0m         \u001b[39mif\u001b[39;00m clean_text(text[\u001b[39m\"\u001b[39;49m\u001b[39mgnip\u001b[39;49m\u001b[39m\"\u001b[39;49m][\u001b[39m'\u001b[39;49m\u001b[39mprofileLocations\u001b[39;49m\u001b[39m'\u001b[39;49m][\u001b[39m0\u001b[39m][\u001b[39m'\u001b[39m\u001b[39maddress\u001b[39m\u001b[39m'\u001b[39m][\u001b[39m'\u001b[39m\u001b[39mcountry\u001b[39m\u001b[39m'\u001b[39m]) \u001b[39m==\u001b[39m \u001b[39m'\u001b[39m\u001b[39maustralia\u001b[39m\u001b[39m'\u001b[39m:\n\u001b[1;32m      3\u001b[0m             \u001b[39mprint\u001b[39m(text[\u001b[39m\"\u001b[39m\u001b[39mgnip\u001b[39m\u001b[39m\"\u001b[39m][\u001b[39m'\u001b[39m\u001b[39mprofileLocations\u001b[39m\u001b[39m'\u001b[39m][\u001b[39m0\u001b[39m][\u001b[39m'\u001b[39m\u001b[39maddress\u001b[39m\u001b[39m'\u001b[39m])\n",
      "\u001b[0;31mKeyError\u001b[0m: 'profileLocations'"
     ]
    }
   ],
   "source": [
    "for text in db.asm.find():\n",
    "        if clean_text(text[\"gnip\"]['profileLocations'][0]['address']['country']) == 'australia':\n",
    "            print(text[\"gnip\"]['profileLocations'][0]['address'])\n",
    "        "
   ]
  },
  {
   "cell_type": "code",
   "execution_count": 60,
   "metadata": {},
   "outputs": [
    {
     "name": "stdout",
     "output_type": "stream",
     "text": [
      "\n",
      "\n"
     ]
    },
    {
     "ename": "KeyError",
     "evalue": "'locality'",
     "output_type": "error",
     "traceback": [
      "\u001b[0;31m---------------------------------------------------------------------------\u001b[0m",
      "\u001b[0;31mKeyError\u001b[0m                                  Traceback (most recent call last)",
      "Cell \u001b[0;32mIn[60], line 5\u001b[0m\n\u001b[1;32m      3\u001b[0m     \u001b[39mprint\u001b[39m(\u001b[39m'\u001b[39m\u001b[39mother country\u001b[39m\u001b[39m'\u001b[39m\u001b[39m+\u001b[39m \u001b[39m\"\u001b[39m\u001b[39m\\n\u001b[39;00m\u001b[39m\"\u001b[39m)\n\u001b[1;32m      4\u001b[0m \u001b[39melse\u001b[39;00m:\n\u001b[0;32m----> 5\u001b[0m     cleaned \u001b[39m=\u001b[39m \u001b[39m\"\u001b[39m\u001b[39m \u001b[39m\u001b[39m\"\u001b[39m\u001b[39m.\u001b[39mjoin(clean_text(text[\u001b[39m\"\u001b[39;49m\u001b[39mgnip\u001b[39;49m\u001b[39m\"\u001b[39;49m][\u001b[39m'\u001b[39;49m\u001b[39mprofileLocations\u001b[39;49m\u001b[39m'\u001b[39;49m][\u001b[39m0\u001b[39;49m][\u001b[39m'\u001b[39;49m\u001b[39maddress\u001b[39;49m\u001b[39m'\u001b[39;49m][\u001b[39m'\u001b[39;49m\u001b[39mlocality\u001b[39;49m\u001b[39m'\u001b[39;49m]))\n\u001b[1;32m      6\u001b[0m     \u001b[39mprint\u001b[39m(cleaned \u001b[39m+\u001b[39m \u001b[39m\"\u001b[39m\u001b[39m\\n\u001b[39;00m\u001b[39m\"\u001b[39m)\n",
      "\u001b[0;31mKeyError\u001b[0m: 'locality'"
     ]
    }
   ],
   "source": [
    "for text in db.asm.find():\n",
    "        if clean_text(text[\"gnip\"]['profileLocations'][0]['address']['country']) == 'australia':\n",
    "            print('other country'+ \"\\n\")\n",
    "        else:\n",
    "            cleaned = \" \".join(clean_text(text[\"gnip\"]['profileLocations'][0]['address']['locality']))\n",
    "            print(cleaned + \"\\n\")"
   ]
  }
 ],
 "metadata": {
  "kernelspec": {
   "display_name": "base",
   "language": "python",
   "name": "python3"
  },
  "language_info": {
   "codemirror_mode": {
    "name": "ipython",
    "version": 3
   },
   "file_extension": ".py",
   "mimetype": "text/x-python",
   "name": "python",
   "nbconvert_exporter": "python",
   "pygments_lexer": "ipython3",
   "version": "3.10.9"
  },
  "orig_nbformat": 4
 },
 "nbformat": 4,
 "nbformat_minor": 2
}
